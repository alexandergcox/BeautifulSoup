{
 "cells": [
  {
   "cell_type": "markdown",
   "id": "48c017c5",
   "metadata": {},
   "source": [
    "### LSE Data Analytics Online Career Accelerator\n",
    "\n",
    "# DA201: Data Analytics using Python"
   ]
  },
  {
   "cell_type": "markdown",
   "id": "677598c2",
   "metadata": {},
   "source": [
    "## API: Connecting and retrieving (tutorial video)"
   ]
  },
  {
   "cell_type": "markdown",
   "id": "a64c16e2",
   "metadata": {},
   "source": [
    "This Notebook accompanies the **API: Connecting and retrieving** demonstration video. Follow along with the demonstration to learn how to:\n",
    "- request access\n",
    "- retrieve headers\n",
    "- retrieve header values\n",
    "- formating the JSON response."
   ]
  },
  {
   "cell_type": "markdown",
   "id": "7a9ff7c9",
   "metadata": {},
   "source": [
    "# Prepare your workstation"
   ]
  },
  {
   "cell_type": "code",
   "execution_count": null,
   "id": "edf174db",
   "metadata": {},
   "outputs": [],
   "source": [
    "# Install JSON and requests if needed.\n",
    "# !pip install json\n",
    "# !pip install requests"
   ]
  },
  {
   "cell_type": "code",
   "execution_count": null,
   "id": "99a8f5ab",
   "metadata": {},
   "outputs": [],
   "source": [
    "# Import libraries.\n",
    "import requests\n",
    "import json"
   ]
  },
  {
   "cell_type": "markdown",
   "id": "571b7aed",
   "metadata": {},
   "source": [
    "# 1. Request access"
   ]
  },
  {
   "cell_type": "code",
   "execution_count": null,
   "id": "c13c3055",
   "metadata": {},
   "outputs": [],
   "source": [
    "# Identify the URL to connect to.\n",
    "# Create a variable to store the URL.\n",
    "URL = 'https://api.coingecko.com/api/v3/exchange_rates'\n",
    "\n",
    "# Send connect request.\n",
    "response = requests.get(url=URL)\n",
    "\n",
    "# View answer from URL.\n",
    "print(response)"
   ]
  },
  {
   "cell_type": "markdown",
   "id": "51ab8e3d",
   "metadata": {},
   "source": [
    "# 2. Retrieve headers"
   ]
  },
  {
   "cell_type": "markdown",
   "id": "b85dcc17",
   "metadata": {},
   "source": [
    "What if you do not get a `200 status_code`? Can you still access some information from the API? Yes, you can!"
   ]
  },
  {
   "cell_type": "code",
   "execution_count": null,
   "id": "36a7183b",
   "metadata": {},
   "outputs": [],
   "source": [
    "# Write if and else statements to get information and status_code.\n",
    "if response.status_code == 200:\n",
    "    print(response.headers)\n",
    "else:\n",
    "    print(response.status_code)\n",
    "    response.headers['Content-Encoding']"
   ]
  },
  {
   "cell_type": "markdown",
   "id": "91350f85",
   "metadata": {},
   "source": [
    "# 3. Retrieve header values"
   ]
  },
  {
   "cell_type": "code",
   "execution_count": null,
   "id": "36d16629",
   "metadata": {},
   "outputs": [],
   "source": [
    "# Retrieving header values with a key.\n",
    "print(response.headers['Date'])"
   ]
  },
  {
   "cell_type": "code",
   "execution_count": null,
   "id": "3e842c88",
   "metadata": {},
   "outputs": [],
   "source": [
    "# Retrieving header values with a key.\n",
    "print(response.headers['Access-Control-Allow-Methods'])"
   ]
  },
  {
   "cell_type": "markdown",
   "id": "08617f8d",
   "metadata": {},
   "source": [
    "# 4. Retrieve information from API"
   ]
  },
  {
   "cell_type": "code",
   "execution_count": null,
   "id": "697ead35",
   "metadata": {},
   "outputs": [],
   "source": [
    "# Retrieve the payload of the API.\n",
    "response.text"
   ]
  },
  {
   "cell_type": "code",
   "execution_count": null,
   "id": "408e029e",
   "metadata": {},
   "outputs": [],
   "source": [
    "# Type of content.\n",
    "print(type(response))"
   ]
  },
  {
   "cell_type": "markdown",
   "id": "f184f93e",
   "metadata": {},
   "source": [
    "# 5. Format JSON text"
   ]
  },
  {
   "cell_type": "code",
   "execution_count": null,
   "id": "afda2dc7",
   "metadata": {},
   "outputs": [],
   "source": [
    "# Change response to json.\n",
    "response.json()"
   ]
  },
  {
   "cell_type": "code",
   "execution_count": null,
   "id": "2f64e141",
   "metadata": {},
   "outputs": [],
   "source": [
    "# Get the information again from the API.\n",
    "r = requests.get(url=URL)\n",
    "\n",
    "# View the information.\n",
    "print(type(r.text))\n",
    "print(r.text)"
   ]
  },
  {
   "cell_type": "code",
   "execution_count": null,
   "id": "d4408353",
   "metadata": {},
   "outputs": [],
   "source": [
    "# Parse JSON data with loads().\n",
    "content = json.loads(r.text)\n",
    "\n",
    "# View the content.\n",
    "print(type(content))\n",
    "print(content['rates'])"
   ]
  },
  {
   "cell_type": "code",
   "execution_count": null,
   "id": "37d5cf1f",
   "metadata": {},
   "outputs": [],
   "source": [
    "# Formatting JSON.\n",
    "print(json.dumps(content, indent=4))"
   ]
  },
  {
   "cell_type": "code",
   "execution_count": null,
   "id": "ba631696",
   "metadata": {},
   "outputs": [],
   "source": [
    "# Formatting JSON.\n",
    "print(json.dumps(content, indent=4, separators=('. ', ' = ')))"
   ]
  },
  {
   "cell_type": "code",
   "execution_count": null,
   "id": "ae3cab81",
   "metadata": {},
   "outputs": [],
   "source": []
  }
 ],
 "metadata": {
  "kernelspec": {
   "display_name": "Python 3 (ipykernel)",
   "language": "python",
   "name": "python3"
  },
  "language_info": {
   "codemirror_mode": {
    "name": "ipython",
    "version": 3
   },
   "file_extension": ".py",
   "mimetype": "text/x-python",
   "name": "python",
   "nbconvert_exporter": "python",
   "pygments_lexer": "ipython3",
   "version": "3.9.12"
  }
 },
 "nbformat": 4,
 "nbformat_minor": 5
}
