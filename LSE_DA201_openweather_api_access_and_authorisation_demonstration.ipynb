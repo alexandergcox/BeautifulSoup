{
 "cells": [
  {
   "cell_type": "markdown",
   "id": "48c017c5",
   "metadata": {},
   "source": [
    "### LSE Data Analytics Online Career Accelerator\n",
    "\n",
    "# DA201: Data Analytics using Python"
   ]
  },
  {
   "cell_type": "markdown",
   "id": "677598c2",
   "metadata": {},
   "source": [
    "## OpenWeather API: access and authorisation "
   ]
  },
  {
   "cell_type": "markdown",
   "id": "a64c16e2",
   "metadata": {},
   "source": [
    "This Notebook accompanies the **OpenWeather API: access and authorisation** activity. Follow the OpenWeather sign-up instructions and the introductory activity steps to learn how to:\n",
    "- get your OpenWeather API key\n",
    "- create a .env file\n",
    "- import the .env file into Jupyter Notebook\n",
    "- import the API key into Jupyter Notebook\n",
    "- connect with the OpenWeather API\n",
    "- retrieve weather data."
   ]
  },
  {
   "cell_type": "markdown",
   "id": "a39462eb",
   "metadata": {},
   "source": [
    "**Important**\n",
    "\n",
    "Please take note that you will work with the OpenWeather API. Keep in mind that the API is based on live and current weather data. Therefore, your output will differ from the outputs provided. "
   ]
  },
  {
   "cell_type": "markdown",
   "id": "7a9ff7c9",
   "metadata": {},
   "source": [
    "# 1. OpenWeather API key"
   ]
  },
  {
   "cell_type": "markdown",
   "id": "0602b07b",
   "metadata": {},
   "source": [
    "Get your API key from this website: https://openweathermap.org/api\n",
    "\n",
    "Ensure:\n",
    "- your account is activated\n",
    "- you have copied your key.\n"
   ]
  },
  {
   "cell_type": "markdown",
   "id": "60fe8508",
   "metadata": {},
   "source": [
    "# 2. Create a .env file"
   ]
  },
  {
   "attachments": {
    "env%20txt.jpg": {
     "image/jpeg": "[encoded data removed]"
    }
   },
   "cell_type": "markdown",
   "id": "59ea18a5",
   "metadata": {},
   "source": [
    "You will need your API key. Follow the steps described in **5.2.5 API access and authorisation** to create your file and store your key securely. Make sure that your .env file is in the same directory as the Notebook you are working in.![env%20txt.jpg](attachment:env%20txt.jpg)"
   ]
  },
  {
   "cell_type": "markdown",
   "id": "884246a0",
   "metadata": {},
   "source": [
    "# 3. Import libraries"
   ]
  },
  {
   "cell_type": "code",
   "execution_count": null,
   "id": "e49a1bf1",
   "metadata": {},
   "outputs": [],
   "source": [
    "#Uncomment if you need to install dotenv.\n",
    "#!pip install python-dotenv\n",
    "\n",
    "import os\n",
    "import requests\n",
    "from dotenv import load_dotenv\n",
    "\n",
    "# Load environment variables from .env file\n",
    "load_dotenv() \n"
   ]
  },
  {
   "cell_type": "markdown",
   "id": "4daa2a2b",
   "metadata": {},
   "source": [
    "# 4. Access your OpenWeather API key"
   ]
  },
  {
   "cell_type": "code",
   "execution_count": null,
   "id": "edca25f0",
   "metadata": {},
   "outputs": [],
   "source": [
    "# Locate and read the key from your .env file.\n",
    "API_key = os.getenv('OpenWeather_API_key')\n",
    "\n",
    "# It is not good practice to print or share your API key, but you are printing it just this once as a test.\n",
    "print(API_key)"
   ]
  },
  {
   "cell_type": "markdown",
   "id": "74da512a",
   "metadata": {},
   "source": [
    "# 5. Connecting to OpenWeather"
   ]
  },
  {
   "cell_type": "code",
   "execution_count": null,
   "id": "7d9fdf17",
   "metadata": {},
   "outputs": [],
   "source": [
    "# Create an API call, excluding some fields to reduce the output.\n",
    "weather_url = \"https://api.openweathermap.org/data/3.0/onecall?lat=51.509865&lon=-0.118092&exclude=minutely,hourly,daily\" \"&appid=\" + API_key\n"
   ]
  },
  {
   "cell_type": "code",
   "execution_count": null,
   "id": "1b0d2345",
   "metadata": {},
   "outputs": [],
   "source": [
    "# Define a response variable.\n",
    "resp = requests.get(weather_url)\n"
   ]
  },
  {
   "cell_type": "code",
   "execution_count": null,
   "id": "50e55920",
   "metadata": {},
   "outputs": [],
   "source": [
    "# Print the response.\n",
    "print(\"Today's weather:\" , resp.json())\n"
   ]
  }
 ],
 "metadata": {
  "kernelspec": {
   "display_name": "Python 3 (ipykernel)",
   "language": "python",
   "name": "python3"
  },
  "language_info": {
   "codemirror_mode": {
    "name": "ipython",
    "version": 3
   },
   "file_extension": ".py",
   "mimetype": "text/x-python",
   "name": "python",
   "nbconvert_exporter": "python",
   "pygments_lexer": "ipython3",
   "version": "3.9.12"
  }
 },
 "nbformat": 4,
 "nbformat_minor": 5
}
