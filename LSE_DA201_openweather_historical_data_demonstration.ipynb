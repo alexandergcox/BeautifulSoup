{
 "cells": [
  {
   "cell_type": "markdown",
   "id": "d75a9832",
   "metadata": {},
   "source": [
    "### LSE Data Analytics Online Career Accelerator\n",
    "\n",
    "# DA201: Data Analytics using Python"
   ]
  },
  {
   "cell_type": "markdown",
   "id": "963426a8",
   "metadata": {},
   "source": [
    "## Obtain current and historical weather data  (demonstration)"
   ]
  },
  {
   "cell_type": "markdown",
   "id": "ef810d26",
   "metadata": {},
   "source": [
    "**Important**\n",
    "\n",
    "*Please take note that you will work with the OpenWeather API. Keep in mind that the API is based on live and current weather conditions and specified locations.*"
   ]
  },
  {
   "cell_type": "markdown",
   "id": "8615e7ee",
   "metadata": {},
   "source": [
    "Previously, you learned how to set up your OpenWeather account, create a Environment variable for your API key, import the key into your Jupyter Notebook, and generate a simple request. Let's investigate how to obtain, format, and compare data for the weather in your location today, and in the year 2000. Once you are comfortable, you can then define and compare multiple locations."
   ]
  },
  {
   "cell_type": "markdown",
   "id": "eb962e25",
   "metadata": {},
   "source": [
    "# 1. Prepare your workstation"
   ]
  },
  {
   "cell_type": "code",
   "execution_count": null,
   "id": "fde628ad",
   "metadata": {},
   "outputs": [],
   "source": [
    "# Import libraries.\n",
    "import os\n",
    "import requests\n",
    "import pandas as pd\n",
    "import json\n",
    "from dotenv import load_dotenv\n",
    "\n",
    "load_dotenv() \n",
    "\n",
    "# Locate and read the key from your .env file.\n",
    "API_key = os.getenv('OpenWeather_API_key')\n"
   ]
  },
  {
   "cell_type": "markdown",
   "id": "c4a538ea",
   "metadata": {},
   "source": [
    "# 2. Find your latitude and longitude coordinates"
   ]
  },
  {
   "cell_type": "code",
   "execution_count": null,
   "id": "998dcb48",
   "metadata": {},
   "outputs": [],
   "source": [
    "# Create an API call.\n",
    "coordinates = \"http://api.openweathermap.org/geo/1.0/zip?zip=CT8,GB\" \"&appid=\" + API_key"
   ]
  },
  {
   "cell_type": "code",
   "execution_count": null,
   "id": "0e80f750",
   "metadata": {},
   "outputs": [],
   "source": [
    "# Define a response variable.\n",
    "response = requests.get(coordinates)\n",
    "\n",
    "# Print the response.\n",
    "print(\"My coordinates:\" , response.json())"
   ]
  },
  {
   "cell_type": "markdown",
   "id": "f9403c9e",
   "metadata": {},
   "source": [
    "# 3. Retrieve your current weather"
   ]
  },
  {
   "cell_type": "code",
   "execution_count": null,
   "id": "afdb34d9",
   "metadata": {},
   "outputs": [],
   "source": [
    "# Create an API call for the current weather in your location and set the parameter to Celsius.\n",
    "my_weather = \"https://api.openweathermap.org/data/3.0/onecall?lat=51.3824&lon=1.3367&exclude=minutely,hourly,daily&units=metric\" \"&appid=\" + API_key\n",
    "\n",
    "# Define a response variable.\n",
    "response = requests.get(my_weather)\n",
    "\n",
    "# Print the response.\n",
    "print(\"My weather:\" , response.json())"
   ]
  },
  {
   "cell_type": "code",
   "execution_count": null,
   "id": "b3eabb72",
   "metadata": {},
   "outputs": [],
   "source": [
    "# Select and print specified data.\n",
    "data = response.json()['current']\n",
    "\n",
    "humidity = data['humidity']\n",
    "pressure = data['pressure']\n",
    "wind = data['wind_speed']\n",
    "description = data['weather'][0]['description']\n",
    "temp = data['temp']\n",
    "\n",
    "#Create a bolded title for your specified data output.\n",
    "print('\\033[1mSelected data\\033[0m')\n",
    "\n",
    "print('Temperature:', temp, '°C')\n",
    "print('Wind:', wind)\n",
    "print('Pressure:', pressure)\n",
    "print('Humidity:', humidity)\n",
    "print('Description:', description)"
   ]
  },
  {
   "cell_type": "markdown",
   "id": "8d28bcff",
   "metadata": {},
   "source": [
    "# 4. Create a Data Frame"
   ]
  },
  {
   "cell_type": "code",
   "execution_count": null,
   "id": "138b53ea",
   "metadata": {},
   "outputs": [],
   "source": [
    "# Prepare the Data Frame by creating a list of dictionaries containing the weather data.\n",
    "weather_data = [{\n",
    "    'timestamp': pd.Timestamp(data['dt'], unit='s', tz='Europe/London'),\n",
    "    'temperature': data['temp'],\n",
    "    'humidity': data['humidity'],\n",
    "    'pressure': data['pressure'],\n",
    "    'wind_speed': data['wind_speed'],\n",
    "    'description': data['weather'][0]['description']\n",
    "}]\n",
    "\n",
    "# Create a data frame from the list of dictionaries.\n",
    "df1 = pd.DataFrame(weather_data)\n",
    "# Print the data frame.\n",
    "print(df1)"
   ]
  },
  {
   "cell_type": "markdown",
   "id": "e34d9d83",
   "metadata": {},
   "source": [
    "# 5. Retrieve historical weather data for your location"
   ]
  },
  {
   "cell_type": "code",
   "execution_count": null,
   "id": "21ea146b",
   "metadata": {},
   "outputs": [],
   "source": [
    "# Create an API call for the current weather in your location and set the parameter to Celsius.\n",
    "past_weather = \"https://api.openweathermap.org/data/3.0/onecall/timemachine?lat=51.3824&lon=1.3367&dt=957471056&units=metric\" \"&appid=\" + API_key\n",
    "\n",
    "# Define a response variable.\n",
    "response = requests.get(past_weather)\n",
    "\n",
    "# Print the response.\n",
    "print(\"My weather in 2000:\" , response.json())"
   ]
  },
  {
   "cell_type": "code",
   "execution_count": null,
   "id": "0d195155",
   "metadata": {},
   "outputs": [],
   "source": [
    "# Select and print specified data. \n",
    "data = response.json()['data'][0]\n",
    "\n",
    "humidity = data['humidity']\n",
    "pressure = data['pressure']\n",
    "wind = data['wind_speed']\n",
    "description = data['weather'][0]['description']\n",
    "temp = data['temp']\n",
    "\n",
    "print('Temperature:', temp, '°C')\n",
    "print('Wind:', wind)\n",
    "print('Pressure:', pressure)\n",
    "print('Humidity:', humidity)\n",
    "print('Description:', description)"
   ]
  },
  {
   "cell_type": "code",
   "execution_count": null,
   "id": "85e1c009",
   "metadata": {},
   "outputs": [],
   "source": [
    "# Prepare a Data Frame by creating a list of dictionaries containing the weather data.\n",
    "data = json.loads(response.content)['data']\n",
    "\n",
    "weather_data = []\n",
    "\n",
    "for datum in data:\n",
    "    weather_data.append({\n",
    "        'timestamp': pd.Timestamp(datum['dt'], unit='s', tz='Europe/London'),\n",
    "        'temperature': datum['temp'],\n",
    "        'humidity': datum['humidity'],\n",
    "        'pressure': datum['pressure'],\n",
    "        'wind_speed': datum['wind_speed'],\n",
    "        'description': datum['weather'][0]['description']\n",
    "    })\n",
    "\n",
    "df2 = pd.DataFrame(weather_data)\n",
    "\n",
    "print(df2)"
   ]
  },
  {
   "cell_type": "markdown",
   "id": "d225e171",
   "metadata": {},
   "source": [
    "# 6. Joining the two DataFrames"
   ]
  },
  {
   "cell_type": "code",
   "execution_count": null,
   "id": "025e2778",
   "metadata": {},
   "outputs": [],
   "source": [
    "# Concatenate the DataFrames.\n",
    "df_concatenated = pd.concat([df1, df2])\n",
    "\n",
    "# View the output.\n",
    "print(df_concatenated)"
   ]
  },
  {
   "cell_type": "markdown",
   "id": "53503590",
   "metadata": {},
   "source": [
    "# 7. Retrieve coordinates using a location name"
   ]
  },
  {
   "cell_type": "code",
   "execution_count": null,
   "id": "9ab12b93",
   "metadata": {},
   "outputs": [],
   "source": [
    "holiday_data = \"http://api.openweathermap.org/geo/1.0/direct?q=Singapore&limit=1\" \"&appid=\" + API_key\n",
    "\n",
    "resp3 = requests.get(holiday_data)\n",
    "print(\"Holiday coordinates:\", resp3.json())"
   ]
  },
  {
   "cell_type": "markdown",
   "id": "7933d54f",
   "metadata": {},
   "source": [
    "# 8. Using the keys() method"
   ]
  },
  {
   "cell_type": "code",
   "execution_count": null,
   "id": "5cf4ad97",
   "metadata": {},
   "outputs": [],
   "source": [
    "# Create an API call using the coordinates retrived using a location name.\n",
    "holiday_data = \"https://api.openweathermap.org/data/3.0/onecall?lat=1.2899175&lon=103.8519072&exclude=minutely,hourly,daily&units=metric\" \"&appid=\" + API_key\n",
    "\n",
    "\n",
    "# Define a response variable.\n",
    "newresp = requests.get(holiday_data)\n",
    "\n",
    "# Print the response keys.\n",
    "print(newresp.json().keys())\n",
    "\n",
    "# Print the response.\n",
    "print(\"Today's weather in my holiday destination:\" , newresp.json())\n"
   ]
  },
  {
   "cell_type": "code",
   "execution_count": null,
   "id": "644869d6",
   "metadata": {},
   "outputs": [],
   "source": [
    "# Access the weather data using the 'current' key.\n",
    "current = newresp.json()['current']\n",
    "\n",
    "# Extract the relevant weather information.\n",
    "humidity = current['humidity']\n",
    "pressure = current['pressure']\n",
    "wind = current['wind_speed']\n",
    "description = current['weather'][0]['description']\n",
    "temp = current['temp']\n",
    "feels_like = current['feels_like']\n",
    "uvi = current['uvi']\n",
    "clouds = current['clouds']\n",
    "visibility = current['visibility']\n",
    "dew_point = current['dew_point']\n",
    "wind_deg = current['wind_deg']\n",
    "\n",
    "#Format a heading.\n",
    "print('\\033[1mSelected data\\033[0m')\n",
    "\n",
    "# Print the weather information.\n",
    "print('Temperature:', round(temp), '°C')\n",
    "print('Feels like:', round(feels_like), '°C')\n",
    "print('Wind speed:', round(wind), 'm/s')\n",
    "print('Wind degree:', wind_deg, '°')\n",
    "print('Pressure:', pressure, 'hPa')\n",
    "print('Humidity:', humidity, '%')\n",
    "print('Dew point:', round(dew_point), '°C')\n",
    "print('UV index:', uvi)\n",
    "print('Cloud cover:', clouds, '%')\n",
    "print('Visibility:', visibility, 'm')\n",
    "print('Description:', description)"
   ]
  },
  {
   "cell_type": "markdown",
   "id": "9bc5d01f",
   "metadata": {},
   "source": [
    "# 9. Making multiple API calls simultaneously"
   ]
  },
  {
   "cell_type": "code",
   "execution_count": null,
   "id": "9c163c22",
   "metadata": {},
   "outputs": [],
   "source": [
    "import os\n",
    "import requests\n",
    "import pandas as pd\n",
    "import pytz\n",
    "from datetime import datetime\n",
    "\n",
    "# Set the API endpoint URL and API key.\n",
    "endpoint_url = \"https://api.openweathermap.org/data/3.0/onecall\"\n",
    "#Access your API key.\n",
    "API_key = os.getenv('OpenWeather_API_key')\n",
    "\n",
    "# Define a list of coordinates for different locations\n",
    "locations = [\n",
    "    {'name': 'London', 'lat': 51.5074, 'lon': -0.1278},\n",
    "    {'name': 'Paris', 'lat': 48.8566, 'lon': 2.3522},\n",
    "    {'name': 'New York', 'lat': 40.7128, 'lon': -74.0060},\n",
    "    {'name': 'Tokyo', 'lat': 35.6895, 'lon': 139.6917},\n",
    "]\n",
    "\n",
    "# Create an empty list to store the weather data for each location.\n",
    "weather_data = []\n",
    "\n",
    "# Loop through each location and get its weather data.\n",
    "for loc in locations:\n",
    "    # Set the API parameters.\n",
    "    params = {\n",
    "        \"lat\": loc['lat'],\n",
    "        \"lon\": loc['lon'],\n",
    "        \"units\": \"metric\",\n",
    "        \"exclude\": \"minutely,hourly,daily\",\n",
    "        \"appid\": API_key\n",
    "    }\n",
    "\n",
    "    # Send a GET request to the API endpoint and store the response.\n",
    "    response = requests.get(endpoint_url, params=params)\n",
    "\n",
    "    # Access the current weather data.\n",
    "    current = response.json()['current']\n",
    "\n",
    "    # Extract the relevant weather information.\n",
    "    humidity = current['humidity']\n",
    "    pressure = current['pressure']\n",
    "    wind = current['wind_speed']\n",
    "    description = current['weather'][0]['description']\n",
    "    temp = int(round(current['temp']))\n",
    "    sunrise = datetime.fromtimestamp(current['sunrise'], tz=pytz.utc).astimezone(pytz.timezone('Europe/London'))\n",
    "    sunset = datetime.fromtimestamp(current['sunset'], tz=pytz.utc).astimezone(pytz.timezone('Europe/London'))\n",
    "\n",
    "    # Add the weather data to the list.\n",
    "    weather_data.append({\n",
    "        'Location': loc['name'],\n",
    "        'Temperature (°C)': temp,\n",
    "        'Wind Speed (m/s)': wind,\n",
    "        'Pressure (hPa)': pressure,\n",
    "        'Humidity (%)': humidity,\n",
    "        'Description': description,\n",
    "        'Sunrise': sunrise,\n",
    "        'Sunset': sunset\n",
    "    })\n",
    "\n",
    "# Print the weather data in a tabular format.\n",
    "print(\"Location\\tTemperature (°C)\\tWind Speed (m/s)\\tPressure (hPa)\\tHumidity (%)\\tDescription\\tSunrise\\t\\t\\t\\tSunset\")\n",
    "for data in weather_data:\n",
    "    print(f\"{data['Location']}\\t\\t{data['Temperature (°C)']}\\t\\t{data['Wind Speed (m/s)']}\\t\\t{data['Pressure (hPa)']}\\t\\t{data['Humidity (%)']}\\t\\t{data['Description']}\\t{data['Sunrise'].strftime('%Y-%m-%d %H:%M:%S')}\\t{data['Sunset'].strftime('%Y-%m-%d %H:%M:%S')}\")\n",
    "    "
   ]
  },
  {
   "cell_type": "markdown",
   "id": "f0e2ea37",
   "metadata": {},
   "source": [
    "# 10. Create a formatted DataFrame and export it as CSV"
   ]
  },
  {
   "cell_type": "code",
   "execution_count": null,
   "id": "d01b2a9c",
   "metadata": {},
   "outputs": [],
   "source": [
    "# Create a data frame from the list of dictionaries.\n",
    "df = pd.DataFrame(weather_data)\n",
    "\n",
    "styled_df = df.style \\\n",
    "    .set_caption(\"Example DataFrame\") \\\n",
    "    .set_properties(**{'text-align': 'center'}) \\\n",
    "    .set_table_styles([{'selector': 'th', 'props': [('text-align', 'center')]}]) \\\n",
    "    .background_gradient(cmap='viridis', low=0, high=1)\n",
    "\n",
    "# display the styled DataFrame\n",
    "display(styled_df)\n",
    "\n",
    "# export dataframe to csv\n",
    "df.to_csv('mydata.csv', index=False)"
   ]
  }
 ],
 "metadata": {
  "kernelspec": {
   "display_name": "Python 3 (ipykernel)",
   "language": "python",
   "name": "python3"
  },
  "language_info": {
   "codemirror_mode": {
    "name": "ipython",
    "version": 3
   },
   "file_extension": ".py",
   "mimetype": "text/x-python",
   "name": "python",
   "nbconvert_exporter": "python",
   "pygments_lexer": "ipython3",
   "version": "3.9.12"
  }
 },
 "nbformat": 4,
 "nbformat_minor": 5
}
