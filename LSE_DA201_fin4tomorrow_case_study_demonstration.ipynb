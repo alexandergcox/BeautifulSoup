{
 "cells": [
  {
   "cell_type": "markdown",
   "id": "48c017c5",
   "metadata": {},
   "source": [
    "### LSE Data Analytics Online Career Accelerator\n",
    "\n",
    "# DA201: Data Analytics using Python"
   ]
  },
  {
   "cell_type": "markdown",
   "id": "677598c2",
   "metadata": {},
   "source": [
    "## Fin4Tomorrow case study (demonstration)"
   ]
  },
  {
   "cell_type": "markdown",
   "id": "a64c16e2",
   "metadata": {},
   "source": [
    "James Roberts is a data analyst at Fin4Tomorrow, an organisation that provides financial advice to businesses. Fin4Tomorrow is compiling a quarterly report on how businesses are performing to identify promising investment opportunities for their clients. James was tasked to provide a list of the world's largest companies by revenue. As James is fairly new to web scraping with Python, he decides to play around and perform web scraping of a Wikipedia website - [List of largest companies by revenue](https://en.wikipedia.org/wiki/List_of_largest_companies_by_revenue) (Wikipedia 2021). \n",
    "\n",
    "See if you can follow along with James and get the same outputs."
   ]
  },
  {
   "cell_type": "markdown",
   "id": "7a9ff7c9",
   "metadata": {},
   "source": [
    "# 1. Establish connection with the website"
   ]
  },
  {
   "cell_type": "code",
   "execution_count": 1,
   "id": "edf174db",
   "metadata": {},
   "outputs": [],
   "source": []
  },
  {
   "cell_type": "code",
   "execution_count": 1,
   "id": "99a8f5ab",
   "metadata": {},
   "outputs": [],
   "source": []
  },
  {
   "cell_type": "markdown",
   "id": "571b7aed",
   "metadata": {},
   "source": [
    "# 2. Extract data from the website"
   ]
  },
  {
   "cell_type": "code",
   "execution_count": null,
   "id": "5ba528e7",
   "metadata": {},
   "outputs": [],
   "source": []
  },
  {
   "cell_type": "code",
   "execution_count": null,
   "id": "0243c2cb",
   "metadata": {},
   "outputs": [],
   "source": []
  },
  {
   "cell_type": "markdown",
   "id": "51ab8e3d",
   "metadata": {},
   "source": [
    "# 3. Extract data from the table"
   ]
  },
  {
   "cell_type": "code",
   "execution_count": null,
   "id": "22769e44",
   "metadata": {},
   "outputs": [],
   "source": []
  },
  {
   "cell_type": "code",
   "execution_count": null,
   "id": "d614342f",
   "metadata": {},
   "outputs": [],
   "source": []
  },
  {
   "cell_type": "markdown",
   "id": "0a3ba1cd",
   "metadata": {},
   "source": [
    "# 4. Set the target table"
   ]
  },
  {
   "cell_type": "code",
   "execution_count": null,
   "id": "ba82e148",
   "metadata": {},
   "outputs": [],
   "source": []
  },
  {
   "cell_type": "code",
   "execution_count": null,
   "id": "5589b90f",
   "metadata": {},
   "outputs": [],
   "source": []
  },
  {
   "cell_type": "markdown",
   "id": "10e73e41",
   "metadata": {},
   "source": [
    "# 5. Extract all the rows"
   ]
  },
  {
   "cell_type": "code",
   "execution_count": null,
   "id": "406838c7",
   "metadata": {},
   "outputs": [],
   "source": []
  },
  {
   "cell_type": "code",
   "execution_count": null,
   "id": "48abade9",
   "metadata": {},
   "outputs": [],
   "source": []
  },
  {
   "cell_type": "markdown",
   "id": "c5f87eca",
   "metadata": {},
   "source": [
    "# 6. Create a Pandas DataFrame"
   ]
  },
  {
   "cell_type": "code",
   "execution_count": null,
   "id": "11694fb3",
   "metadata": {},
   "outputs": [],
   "source": []
  },
  {
   "cell_type": "code",
   "execution_count": null,
   "id": "a6ebcadf",
   "metadata": {},
   "outputs": [],
   "source": []
  },
  {
   "cell_type": "markdown",
   "id": "6334ea2d",
   "metadata": {},
   "source": [
    "# 7. Extract Pandas DataFrame: JSON and CSV"
   ]
  },
  {
   "cell_type": "code",
   "execution_count": null,
   "id": "8f5776da",
   "metadata": {},
   "outputs": [],
   "source": []
  },
  {
   "cell_type": "code",
   "execution_count": null,
   "id": "64809ca3",
   "metadata": {},
   "outputs": [],
   "source": []
  },
  {
   "cell_type": "markdown",
   "id": "1d67ca13",
   "metadata": {},
   "source": [
    "# 8. Import CSV and JSON files"
   ]
  },
  {
   "cell_type": "code",
   "execution_count": null,
   "id": "aa6d1f53",
   "metadata": {},
   "outputs": [],
   "source": []
  },
  {
   "cell_type": "code",
   "execution_count": null,
   "id": "a29ef555",
   "metadata": {},
   "outputs": [],
   "source": []
  }
 ],
 "metadata": {
  "kernelspec": {
   "display_name": "Python 3 (ipykernel)",
   "language": "python",
   "name": "python3"
  },
  "language_info": {
   "codemirror_mode": {
    "name": "ipython",
    "version": 3
   },
   "file_extension": ".py",
   "mimetype": "text/x-python",
   "name": "python",
   "nbconvert_exporter": "python",
   "pygments_lexer": "ipython3",
   "version": "3.9.12"
  }
 },
 "nbformat": 4,
 "nbformat_minor": 5
}
