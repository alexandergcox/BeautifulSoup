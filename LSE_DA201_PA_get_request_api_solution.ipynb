{
 "cells": [
  {
   "cell_type": "markdown",
   "id": "d75a9832",
   "metadata": {},
   "source": [
    "#### **LSE Data Analytics Online Career Accelerator** \n",
    "#### Course 201: Data Analytics with Python"
   ]
  },
  {
   "cell_type": "markdown",
   "id": "963426a8",
   "metadata": {},
   "source": [
    "## Practical activity: Making a GET request to an API"
   ]
  },
  {
   "cell_type": "markdown",
   "id": "8615e7ee",
   "metadata": {},
   "source": [
    "**This is the solution to the activity.**\n",
    "\n",
    "The story of Bitcoin and other cryptocurrencies has captured investors like few financial stories have. Many finance firms are looking to invest in the crypto market. \n",
    "\n",
    "As a data analyst at a financial institution, your line manager has tasked you with investigating Bitcoin in a little more detail, particularly in terms of future growth of the currency and its use in the United States. \n",
    "\n",
    "To begin exploring Bitcoin and its potential use and growth in the United States, you will use these two public APIs:\n",
    "- The current Bitcoin Price Index (https://api.coindesk.com/v1/bpi/currentprice.json (Links to an external site.))\n",
    "- USA population data (https://datausa.io/api/data?drilldowns=Nation&measures=Population (Links to an external site.))"
   ]
  },
  {
   "cell_type": "markdown",
   "id": "eb962e25",
   "metadata": {},
   "source": [
    "## 1. Import the libraries"
   ]
  },
  {
   "cell_type": "code",
   "execution_count": null,
   "id": "fde628ad",
   "metadata": {},
   "outputs": [],
   "source": [
    "# Import the necessary libraries.\n",
    "import requests\n",
    "import json\n",
    "import pandas as pd"
   ]
  },
  {
   "cell_type": "markdown",
   "id": "c4a538ea",
   "metadata": {},
   "source": [
    "##  Bitcoin Price Index"
   ]
  },
  {
   "cell_type": "code",
   "execution_count": null,
   "id": "998dcb48",
   "metadata": {},
   "outputs": [],
   "source": [
    "# Create a requests variable.\n",
    "bitcoin = requests.get('https://api.coindesk.com/v1/bpi/currentprice.json')\n",
    "   \n",
    "# Print the status_code.\n",
    "print(bitcoin.status_code)\n",
    "\n",
    "# Print the JSON response.\n",
    "print(bitcoin.json())"
   ]
  },
  {
   "cell_type": "code",
   "execution_count": null,
   "id": "57b4c445",
   "metadata": {},
   "outputs": [],
   "source": [
    "# Retrieve the headers.\n",
    "bitcoin.headers"
   ]
  },
  {
   "cell_type": "code",
   "execution_count": null,
   "id": "a15bee6e",
   "metadata": {},
   "outputs": [],
   "source": [
    "# Parse JSON data with loads().\n",
    "bitcoin_content = json.loads(bitcoin.text)\n",
    "\n",
    "# View the content.\n",
    "print(type(bitcoin_content))\n",
    "bitcoin_content"
   ]
  },
  {
   "cell_type": "code",
   "execution_count": null,
   "id": "5714cb63",
   "metadata": {},
   "outputs": [],
   "source": [
    "# Try this code snippet and compare the output.\n",
    "# View the content.\n",
    "print(type(bitcoin_content))\n",
    "print(bitcoin_content)"
   ]
  },
  {
   "cell_type": "code",
   "execution_count": null,
   "id": "52c80f7a",
   "metadata": {},
   "outputs": [],
   "source": [
    "# Formatting JSON.\n",
    "print(json.dumps(bitcoin_content, indent=4))"
   ]
  },
  {
   "cell_type": "code",
   "execution_count": null,
   "id": "d41a541f",
   "metadata": {},
   "outputs": [],
   "source": [
    "# Create a DataFrame directly from the output.\n",
    "bitcoin_df = pd.DataFrame(bitcoin_content)\n",
    "\n",
    "# View the DataFrame.\n",
    "bitcoin_df.head()"
   ]
  },
  {
   "cell_type": "code",
   "execution_count": null,
   "id": "3c99c3de",
   "metadata": {},
   "outputs": [],
   "source": [
    "# Save the JSON file to .json.\n",
    "# Create a JSON file.\n",
    "bitcoin_json = json.dumps(bitcoin_content)\n",
    "\n",
    "\n",
    "with open('bitcoin_json.json', 'w') as f:\n",
    "    json.dump(bitcoin_content, f)\n",
    "    \n",
    "# Save as a CSV file without index.\n",
    "bitcoin_df.to_csv('bitcoin_csv.csv', index=False)"
   ]
  },
  {
   "cell_type": "markdown",
   "id": "f0eadcac",
   "metadata": {},
   "source": [
    "# "
   ]
  },
  {
   "cell_type": "markdown",
   "id": "81343a90",
   "metadata": {},
   "source": [
    "##  USA population data"
   ]
  },
  {
   "cell_type": "code",
   "execution_count": null,
   "id": "ada91110",
   "metadata": {},
   "outputs": [],
   "source": [
    "# Import the necessary libraries.\n",
    "import requests\n",
    "import json\n",
    "import pandas as pd"
   ]
  },
  {
   "cell_type": "code",
   "execution_count": null,
   "id": "2159ad9c",
   "metadata": {},
   "outputs": [],
   "source": [
    "# Create a requests variable.\n",
    "pop = requests.get('https://datausa.io/api/data?drilldowns=Nation&measures=Population')\n",
    "   \n",
    "# Print the status_code.\n",
    "print(pop.status_code)\n",
    "\n",
    "# Print the JSON response.\n",
    "print(pop.json())"
   ]
  },
  {
   "cell_type": "code",
   "execution_count": null,
   "id": "b4f5be32",
   "metadata": {},
   "outputs": [],
   "source": [
    "# Retrieve headers.\n",
    "pop.headers"
   ]
  },
  {
   "cell_type": "code",
   "execution_count": null,
   "id": "5ad2f5b4",
   "metadata": {},
   "outputs": [],
   "source": [
    "# Parse JSON data with loads().\n",
    "pop_content = json.loads(pop.text)\n",
    "\n",
    "# View the content.\n",
    "print(type(pop_content))\n",
    "print(pop_content)"
   ]
  },
  {
   "cell_type": "code",
   "execution_count": null,
   "id": "e6fd5505",
   "metadata": {},
   "outputs": [],
   "source": [
    "# Formatting JSON.\n",
    "print(json.dumps(pop_content, indent=4))"
   ]
  },
  {
   "cell_type": "code",
   "execution_count": null,
   "id": "954b0a12",
   "metadata": {},
   "outputs": [],
   "source": []
  }
 ],
 "metadata": {
  "kernelspec": {
   "display_name": "Python 3 (ipykernel)",
   "language": "python",
   "name": "python3"
  },
  "language_info": {
   "codemirror_mode": {
    "name": "ipython",
    "version": 3
   },
   "file_extension": ".py",
   "mimetype": "text/x-python",
   "name": "python",
   "nbconvert_exporter": "python",
   "pygments_lexer": "ipython3",
   "version": "3.9.12"
  }
 },
 "nbformat": 4,
 "nbformat_minor": 5
}
