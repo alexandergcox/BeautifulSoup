{
 "cells": [
  {
   "cell_type": "markdown",
   "id": "d75a9832",
   "metadata": {},
   "source": [
    "### LSE Data Analytics Online Career Accelerator\n",
    "\n",
    "# DA201: Data Analytics using Python"
   ]
  },
  {
   "cell_type": "markdown",
   "id": "963426a8",
   "metadata": {},
   "source": [
    "## Practical activity: Convert, clean, and analyse data"
   ]
  },
  {
   "cell_type": "markdown",
   "id": "8615e7ee",
   "metadata": {},
   "source": [
    "**This is the solution to the activity.**\n",
    "\n",
    "Having scraped and shared the specific data required by the executives, claims department, and clients of your organisation, you now need to share it with them. You know that none of the stakeholders involved are as tech- or data-savvy as you are, and that you need to share the data with them in a way they can understand and use. To this end, you’ve been asked to download your scraped data as a CSV file. \n",
    "\n",
    "Additionally, other data analysts at your organisation want access to your data, and have requested the data also be shared as JSON files. Your analytics department has also asked you to focus on the six continents on the table, and perform several calculations for each of them."
   ]
  },
  {
   "cell_type": "markdown",
   "id": "eb962e25",
   "metadata": {},
   "source": [
    "## 1. Import the libraries"
   ]
  },
  {
   "cell_type": "code",
   "execution_count": null,
   "id": "fde628ad",
   "metadata": {},
   "outputs": [],
   "source": [
    "# Import necessary libraries.\n",
    "import requests\n",
    "import pandas as pd\n",
    "from bs4 import BeautifulSoup"
   ]
  },
  {
   "cell_type": "markdown",
   "id": "c4a538ea",
   "metadata": {},
   "source": [
    "## 2. Establish connection with URL"
   ]
  },
  {
   "cell_type": "code",
   "execution_count": null,
   "id": "998dcb48",
   "metadata": {},
   "outputs": [],
   "source": [
    "# Create a URL variable.\n",
    "url = 'https://www.worldometers.info/coronavirus/'\n",
    "\n",
    "# Create a requests variable.\n",
    "r = requests.get(url)\n",
    "\n",
    "# Make contact with the website.\n",
    "if r.status_code == 200:\n",
    "    html_doc = r.text\n",
    "    \n",
    "# Create a BeautifulSoup object.\n",
    "soup = BeautifulSoup(html_doc)\n",
    "\n",
    "# View the output.\n",
    "print(soup.prettify())"
   ]
  },
  {
   "cell_type": "markdown",
   "id": "53503590",
   "metadata": {},
   "source": [
    "## 3. Extract tabular data"
   ]
  },
  {
   "cell_type": "code",
   "execution_count": null,
   "id": "4a2f1dff",
   "metadata": {},
   "outputs": [],
   "source": [
    "# Extracting the contents of the table with the table id: \n",
    "table = soup.find('table', attrs={'id': 'main_table_countries_today'})\n",
    "\n",
    "# View the output.\n",
    "table"
   ]
  },
  {
   "cell_type": "markdown",
   "id": "2b06d215",
   "metadata": {},
   "source": [
    "## 4. Extract table headers"
   ]
  },
  {
   "cell_type": "code",
   "execution_count": null,
   "id": "a5fbe1e9",
   "metadata": {},
   "outputs": [],
   "source": [
    "# Now we need to specify BeautifulSoup to go through the table and find everything \n",
    "# with a tr tag.\n",
    "# Note: th = (table header), tr = (table row), and td = table column.\n",
    "rows = table.find_all('tr', attrs={'style': \"\"})\n",
    "\n",
    "# View the output.\n",
    "rows"
   ]
  },
  {
   "cell_type": "code",
   "execution_count": null,
   "id": "33452489",
   "metadata": {},
   "outputs": [],
   "source": [
    "# Storage for the extracted data.\n",
    "# Create an empty list.\n",
    "output = []\n",
    "\n",
    "# Specify the column names.\n",
    "column_names = ['Country,Other', 'Total Cases', 'New Cases', 'Total Deaths',\n",
    "               'New Deaths', 'Total Recovered', 'New Recovered',\n",
    "               'Active Cases', 'Serious, Critical', 'Tot Cases/ 1M pop',\n",
    "               'Deaths/ 1M pop', 'Total Tests', 'Tests/ 1M pop', 'Population']\n",
    "\n",
    "# Create a for loop statement.\n",
    "for cases in rows:\n",
    "    cases_data = cases.find_all('td')\n",
    "    if cases_data:\n",
    "        # Extract the text within each element.\n",
    "        cases_text = [td.text for td in cases_data]\n",
    "        output.append(dict(zip(column_names, cases_text)))\n",
    "        \n",
    "# View the output.\n",
    "output"
   ]
  },
  {
   "cell_type": "markdown",
   "id": "d5921ef5",
   "metadata": {},
   "source": [
    "## 5. Convert extracted data into a Panda DataFrame"
   ]
  },
  {
   "cell_type": "code",
   "execution_count": null,
   "id": "9141f112",
   "metadata": {},
   "outputs": [],
   "source": [
    "# Create a DataFrame directly from the output.\n",
    "data = pd.DataFrame(output)\n",
    "\n",
    "# View the DataFrame.\n",
    "data.head()"
   ]
  },
  {
   "cell_type": "markdown",
   "id": "947b6979",
   "metadata": {},
   "source": [
    "## 6. Convert, clean and analyse the data"
   ]
  },
  {
   "cell_type": "code",
   "execution_count": null,
   "id": "4efcf0b7",
   "metadata": {},
   "outputs": [],
   "source": [
    "# Save the DataFrame as a CSV file without index.\n",
    "data.to_csv('cases.csv', index=False)"
   ]
  },
  {
   "cell_type": "code",
   "execution_count": null,
   "id": "93b0e2e7",
   "metadata": {},
   "outputs": [],
   "source": [
    "# Create a JSON file.\n",
    "import json\n",
    "\n",
    "# Create a JSON file.\n",
    "output_json = json.dumps(output)\n",
    "\n",
    "# View the output.\n",
    "output_json"
   ]
  },
  {
   "cell_type": "code",
   "execution_count": null,
   "id": "8c9024e6",
   "metadata": {},
   "outputs": [],
   "source": [
    "# Save the JSON file to .json.\n",
    "with open('cases_json.json', 'w') as f:\n",
    "    json.dump(output, f)"
   ]
  },
  {
   "cell_type": "code",
   "execution_count": null,
   "id": "85e05914",
   "metadata": {},
   "outputs": [],
   "source": [
    "# Read the JSON using Pandas, output to .csv.\n",
    "pd.read_json(output_json).to_csv('cases_csv.csv', index=False)"
   ]
  },
  {
   "cell_type": "code",
   "execution_count": null,
   "id": "7cb169d7",
   "metadata": {},
   "outputs": [],
   "source": [
    "# Import and read the CSV file.\n",
    "data_csv = pd.read_csv('cases_csv.csv')\n",
    "\n",
    "# View the data.\n",
    "print(data_csv.head())\n",
    "\n",
    "# Import and read the JSON file.\n",
    "data_json = pd.read_json('cases_json.json')\n",
    "\n",
    "# View the DataFrame. \n",
    "data_json.head()"
   ]
  },
  {
   "cell_type": "code",
   "execution_count": null,
   "id": "ceff6d28",
   "metadata": {},
   "outputs": [],
   "source": [
    "# View the CSV and JSON DataFrames.\n",
    "print(data_csv.dtypes)\n",
    "print(data_csv.columns)\n",
    "\n",
    "print(data_json.dtypes)\n",
    "print(data_json.columns)"
   ]
  },
  {
   "cell_type": "code",
   "execution_count": null,
   "id": "dc37f1dd",
   "metadata": {},
   "outputs": [],
   "source": [
    "# Create a subset.\n",
    "data_report = data_csv[['Country,Other', 'Total Cases', 'Total Deaths',\n",
    "                        'Total Recovered', 'Active Cases', 'Serious, Critical']]\n",
    "\n",
    "# View the column names.\n",
    "print(data_report.columns)\n",
    "data_report"
   ]
  },
  {
   "cell_type": "code",
   "execution_count": null,
   "id": "8fb8563e",
   "metadata": {},
   "outputs": [],
   "source": [
    "# Determine missing values.\n",
    "data_report.isnull().sum()"
   ]
  },
  {
   "cell_type": "code",
   "execution_count": null,
   "id": "907c0a0a",
   "metadata": {},
   "outputs": [],
   "source": [
    "# Save the DataFrame as a CSV file without index.\n",
    "data_report.to_csv('cases_report.csv', index=False)"
   ]
  },
  {
   "cell_type": "code",
   "execution_count": null,
   "id": "daae536a",
   "metadata": {},
   "outputs": [],
   "source": [
    "# View the saved CSV.\n",
    "cases_report = pd.read_csv('cases_report.csv')\n",
    "\n",
    "# View the DataFrame.\n",
    "cases_report.head()"
   ]
  },
  {
   "cell_type": "code",
   "execution_count": null,
   "id": "3e47ea56",
   "metadata": {},
   "outputs": [],
   "source": []
  }
 ],
 "metadata": {
  "kernelspec": {
   "display_name": "Python 3 (ipykernel)",
   "language": "python",
   "name": "python3"
  },
  "language_info": {
   "codemirror_mode": {
    "name": "ipython",
    "version": 3
   },
   "file_extension": ".py",
   "mimetype": "text/x-python",
   "name": "python",
   "nbconvert_exporter": "python",
   "pygments_lexer": "ipython3",
   "version": "3.9.12"
  }
 },
 "nbformat": 4,
 "nbformat_minor": 5
}
